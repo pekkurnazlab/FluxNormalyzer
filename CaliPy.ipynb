{
 "cells": [
  {
   "cell_type": "markdown",
   "metadata": {},
   "source": [
    "# CaliPy\n",
    "\n",
    "CaliPy is a short python script designed to take in two csv files. One from the calibration mode of NucJ and one containing the manually obtained counts of the images calibrated. The resulting output is the best CSC for the given images."
   ]
  },
  {
   "cell_type": "code",
   "execution_count": 44,
   "metadata": {
    "collapsed": true
   },
   "outputs": [],
   "source": [
    "import pandas as pd\n",
    "import numpy as np\n",
    "from scipy import stats"
   ]
  },
  {
   "cell_type": "code",
   "execution_count": 45,
   "metadata": {
    "collapsed": false,
    "scrolled": true
   },
   "outputs": [
    {
     "name": "stdout",
     "output_type": "stream",
     "text": [
      "Please input the name of the csv file containing manual counts: bad_counts.csv\n",
      "Please input the name the csv file containing calibration counts: calibration_counts.csv\n",
      "What was your minimum CSC? 0\n",
      "What was your maximum CSC? 25\n",
      "What was your step size? 5\n"
     ]
    }
   ],
   "source": [
    "# 1. Obtain the file names and take in calibration parameters\n",
    "manual_counts = str(input(\"Please input the name of the csv file containing manual counts: \"))\n",
    "calibration_counts = str(input('Please input the name the csv file containing calibration counts: '))\n",
    "min_CSC = int(input(\"What was your minimum CSC? \"))\n",
    "max_CSC = int(input(\"What was your maximum CSC? \"))\n",
    "step_size = int(input(\"What was your step size? \"))"
   ]
  },
  {
   "cell_type": "code",
   "execution_count": 46,
   "metadata": {
    "collapsed": false
   },
   "outputs": [
    {
     "name": "stdout",
     "output_type": "stream",
     "text": [
      "   Count\n",
      "0     10\n",
      "1     15\n",
      "2     20\n",
      "                               Slice  Count  Total Area  Average Size  %Area\n",
      "0   30k.well1.3_hek_after_4-26-18_ND    365    19315.88         52.92  34.37\n",
      "1   30k.well2.3_hek_after_4-26-18_ND    319    19907.08         62.40  35.42\n",
      "2   30k.well3.1_hek_after_4-26-18_ND    395    19697.16         49.87  35.05\n",
      "3   30k.well1.3_hek_after_4-26-18_ND    233    19243.12         82.59  34.24\n",
      "4   30k.well2.3_hek_after_4-26-18_ND    216    19857.36         91.93  35.34\n",
      "5   30k.well3.1_hek_after_4-26-18_ND    243    19624.35         80.76  34.92\n",
      "6   30k.well1.3_hek_after_4-26-18_ND    221    19151.01         86.66  34.08\n",
      "7   30k.well2.3_hek_after_4-26-18_ND    206    19791.14         96.07  35.22\n",
      "8   30k.well3.1_hek_after_4-26-18_ND    230    19519.62         84.87  34.73\n",
      "9   30k.well1.3_hek_after_4-26-18_ND    215    19074.36         88.72  33.94\n",
      "10  30k.well2.3_hek_after_4-26-18_ND    201    19733.56         98.18  35.11\n",
      "11  30k.well3.1_hek_after_4-26-18_ND    224    19448.37         86.82  34.61\n",
      "12  30k.well1.3_hek_after_4-26-18_ND    210    18983.12         90.40  33.78\n",
      "13  30k.well2.3_hek_after_4-26-18_ND    196    19646.07        100.24  34.96\n",
      "14  30k.well3.1_hek_after_4-26-18_ND    217    19328.18         89.07  34.39\n",
      "15  30k.well1.3_hek_after_4-26-18_ND    206    18893.67         91.72  33.62\n",
      "16  30k.well2.3_hek_after_4-26-18_ND    194    19602.12        101.04  34.88\n",
      "17  30k.well3.1_hek_after_4-26-18_ND    211    19189.29         90.94  34.15\n"
     ]
    }
   ],
   "source": [
    "# 2. Read in the csv files\n",
    "Manual_df = pd.read_csv(manual_counts)\n",
    "Calibration_df = pd.read_csv(calibration_counts)\n",
    "\n",
    "print(Manual_df)\n",
    "print(Calibration_df)"
   ]
  },
  {
   "cell_type": "code",
   "execution_count": 47,
   "metadata": {
    "collapsed": false
   },
   "outputs": [
    {
     "name": "stdout",
     "output_type": "stream",
     "text": [
      "[10 15 20]\n",
      "[365 319 395 233 216 243 221 206 230 215 201 224 210 196 217 206 194 211]\n"
     ]
    }
   ],
   "source": [
    "Manual = Manual_df['Count'].as_matrix()\n",
    "Calibration = Calibration_df['Count'].as_matrix()\n",
    "\n",
    "print(Manual)\n",
    "print(Calibration)"
   ]
  },
  {
   "cell_type": "code",
   "execution_count": 48,
   "metadata": {
    "collapsed": true
   },
   "outputs": [],
   "source": [
    "x = 0\n",
    "Stats = []\n",
    "\n",
    "# Performs a paired t-test between the Manual Counts and all other groups\n",
    "while len(Manual)*x < len(Calibration):\n",
    "    statistic, pvalue = stats.ttest_rel(Manual, Calibration[len(Manual)*x: len(Manual)*x + len(Manual)])\n",
    "    Stats.append(pvalue)\n",
    "    x = x + 1"
   ]
  },
  {
   "cell_type": "code",
   "execution_count": 49,
   "metadata": {
    "collapsed": false
   },
   "outputs": [
    {
     "name": "stdout",
     "output_type": "stream",
     "text": [
      "[0.0037398259243766564, 0.0011542088337225425, 0.0010156874304362875, 0.00096745237215532505, 0.00093557553134073661, 0.00071406419156093176]\n"
     ]
    }
   ],
   "source": [
    "print(Stats)"
   ]
  },
  {
   "cell_type": "code",
   "execution_count": 50,
   "metadata": {
    "collapsed": false
   },
   "outputs": [],
   "source": [
    "index = Stats.index(max(Stats))\n",
    "best_CSC = min_CSC + (step_size * index)"
   ]
  },
  {
   "cell_type": "code",
   "execution_count": 51,
   "metadata": {
    "collapsed": false
   },
   "outputs": [
    {
     "name": "stdout",
     "output_type": "stream",
     "text": [
      "All Cell Size Cutoffs tested were statistically significantly different from Ground Truth.\n"
     ]
    }
   ],
   "source": [
    "if Stats[index] >= 0.05:\n",
    "    print(\"The Best Cell Size Cutoff is \" + str(best_CSC) + \"um^2 with a p-value of \" + str(Stats[index]) + \".\")\n",
    "else:\n",
    "    print(\"All Cell Size Cutoffs tested were statistically significantly different from Ground Truth.\")"
   ]
  }
 ],
 "metadata": {
  "kernelspec": {
   "display_name": "Python 3",
   "language": "python",
   "name": "python3"
  },
  "language_info": {
   "codemirror_mode": {
    "name": "ipython",
    "version": 3
   },
   "file_extension": ".py",
   "mimetype": "text/x-python",
   "name": "python",
   "nbconvert_exporter": "python",
   "pygments_lexer": "ipython3",
   "version": "3.6.0"
  }
 },
 "nbformat": 4,
 "nbformat_minor": 2
}
