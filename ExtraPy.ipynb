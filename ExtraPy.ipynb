{
 "cells": [
  {
   "cell_type": "markdown",
   "metadata": {},
   "source": [
    "# ExtraPy\n",
    "\n",
    "This python script takes the raw output file from the NucJ ImageJ macro and converts it into the final cell counts for the wells\n",
    "\n",
    "There are some assumptions this script makes: <br>\n",
    "- The raw data was produced with NucJ.ijm. A different raw input may not work properly <br>\n",
    "- All images used have the exact same area. This makes computation much simpler <br>"
   ]
  },
  {
   "cell_type": "code",
   "execution_count": 121,
   "metadata": {
    "collapsed": true
   },
   "outputs": [],
   "source": [
    "# Importing packages for conversion of raw data input file into processed csv file.\n",
    "import datetime\n",
    "import pandas as pd\n",
    "import numpy as np\n",
    "from scipy import stats\n",
    "import matplotlib.pyplot as plt"
   ]
  },
  {
   "cell_type": "markdown",
   "metadata": {},
   "source": [
    "## Script Configuration\n",
    "\n",
    "This script requires a few user inputs to function properly. These parameters are: <br>\n",
    "- The name of your raw csvfile <br>\n",
    "- The desired name of your output file <br>\n",
    "- The area of the images you used <br>\n",
    "- The seeding area of the plate you used <br>\n",
    "\n",
    "There are default values input for outfile, ImageArea, and SeedArea. By typing 'yes' when prompted you can have the script use these default values. You can change the default values within the code to be set to the values your lab usually uses."
   ]
  },
  {
   "cell_type": "code",
   "execution_count": 122,
   "metadata": {
    "collapsed": false,
    "scrolled": true
   },
   "outputs": [
    {
     "name": "stdout",
     "output_type": "stream",
     "text": [
      "Please input the name of your csvfile: Results.csv\n",
      "Use default parameters? Type 'no' or 'yes' : yes\n",
      "Results.csv 07_08_21_CellCounts.csv 56196.769 10600000\n"
     ]
    }
   ],
   "source": [
    "# Inital User Input for Configuration\n",
    "csvfile = str(input('Please input the name of your csvfile: '))\n",
    "default = str(input(\"Use default parameters? Type 'no' or 'yes' : \"))\n",
    "if default == 'yes':\n",
    "    now = datetime.datetime.now();\n",
    "    # Default value for outfile, change below if you want to have the default name be different\n",
    "    # WARNING if you have another file with the same name in the directory as your outfile, the outfile will overwrite it\n",
    "    outfile = now.strftime(\"%m_%d_%y\") + '_CellCounts.csv'\n",
    "    \n",
    "    # Default value for Image Area in microns. RECOMMENDED: change this to a common value used by your lab.\n",
    "    ImageArea = 56196.769 # Change this value if you wish to have a different default Image Area\n",
    " \n",
    "    # Default Seeding Area for a 96 well seahorse plate\n",
    "    SeedArea = 10600000 # Change this value if you wish to have a different default Seeding Area\n",
    "    \n",
    "else:\n",
    "    outfile = input('Please input the name of your outfile: ')\n",
    "    ImageArea = float(input('Please input the area of the images you used: ')) # assumes consistent image area\n",
    "    SeedArea = float(input('Please input the size of your seeding area: '))\n",
    "    \n",
    "print(csvfile, outfile, ImageArea, SeedArea)"
   ]
  },
  {
   "cell_type": "code",
   "execution_count": 123,
   "metadata": {
    "collapsed": false,
    "scrolled": true
   },
   "outputs": [
    {
     "name": "stdout",
     "output_type": "stream",
     "text": [
      "                              Slice  Count  Total Area  Average Size  %Area\n",
      "0  30k.well1.3_hek_after_4-26-18_ND    365    19315.88         52.92  34.37\n",
      "1  30k.well2.3_hek_after_4-26-18_ND    319    19907.08         62.40  35.42\n",
      "2  30k.well3.1_hek_after_4-26-18_ND    395    19697.16         49.87  35.05\n"
     ]
    }
   ],
   "source": [
    "# Reading the raw output from the macro\n",
    "RawData_df = pd.read_csv(csvfile)\n",
    "print(RawData_df)"
   ]
  },
  {
   "cell_type": "code",
   "execution_count": 124,
   "metadata": {
    "collapsed": false,
    "scrolled": false
   },
   "outputs": [
    {
     "name": "stdout",
     "output_type": "stream",
     "text": [
      "                              Slice  Count\n",
      "0  30k.well1.3_hek_after_4-26-18_ND    365\n",
      "1  30k.well2.3_hek_after_4-26-18_ND    319\n",
      "2  30k.well3.1_hek_after_4-26-18_ND    395\n"
     ]
    }
   ],
   "source": [
    "# Converting to desired format\n",
    "CellCounts_df = RawData_df\n",
    "\n",
    "# Getting the names of columns in the dataframe\n",
    "All_Columns = list(CellCounts_df.columns)\n",
    "Remove_Columns = list()\n",
    "\n",
    "# Going through and tracking every name that is not 'Slice' or 'Count'\n",
    "for column in All_Columns:\n",
    "    if column != 'Slice':\n",
    "        if column != 'Count':\n",
    "            Remove_Columns.append(column)\n",
    "\n",
    "# Removing every column other than 'Slice' and 'Count'\n",
    "CellCounts_df = CellCounts_df.drop(Remove_Columns, axis = 1)\n",
    "\n",
    "# Printing to make sure\n",
    "print(CellCounts_df)"
   ]
  },
  {
   "cell_type": "code",
   "execution_count": 125,
   "metadata": {
    "collapsed": false
   },
   "outputs": [
    {
     "name": "stdout",
     "output_type": "stream",
     "text": [
      "                              Slice  Count\n",
      "0  30k.well1.3_hek_after_4-26-18_ND  365.0\n",
      "1  30k.well2.3_hek_after_4-26-18_ND  319.0\n",
      "2  30k.well3.1_hek_after_4-26-18_ND  395.0\n"
     ]
    }
   ],
   "source": [
    "# Processing to Final Average df ...\n",
    "# Do same thing as before, but do name check if name ==\n",
    "#emptyrow = pd.DataFrame([[1, 1]], columns=['Slice', 'Count'])\n",
    "FinalCount_df = pd.DataFrame([[1, 1]], columns=['Slice', 'Count'])\n",
    "\n",
    "FinalCount_df.loc[0] = CellCounts_df.loc[0]\n",
    "\n",
    "# Initializing variables to keep track of the Well we are on and how many images we have looked at\n",
    "ImageCount = 1;\n",
    "WellPos = 0;\n",
    "\n",
    "for x in range(1, CellCounts_df['Slice'].size):\n",
    "    \n",
    "    # If we are still on the same well just add the value to count and increment the ImageCount\n",
    "    if CellCounts_df['Slice'].loc[x] == FinalCount_df['Slice'].loc[WellPos]:\n",
    "        FinalCount_df.loc[WellPos,('Count')] +=  CellCounts_df.loc[x,('Count')]\n",
    "        ImageCount += 1\n",
    "        \n",
    "    # If they were not the same it means we have moved on to a new well\n",
    "    else:\n",
    "        # Making the final count of that well the average of all the counts\n",
    "        FinalCount_df.loc[WellPos,('Count')] = FinalCount_df.loc[WellPos,('Count')] / ImageCount\n",
    "        # Appending the first instance of a new well from our cell counts\n",
    "        FinalCount_df = FinalCount_df.append(CellCounts_df.loc[x], ignore_index=True)\n",
    "        # Resetting the ImageCount in case an inconsistent number were used and incrementing the well position\n",
    "        ImageCount = 1\n",
    "        WellPos += 1\n",
    "        \n",
    "# Applying the division for the last well\n",
    "FinalCount_df.loc[WellPos,('Count')] = FinalCount_df.loc[WellPos,('Count')] / ImageCount\n",
    "\n",
    "print(FinalCount_df)"
   ]
  },
  {
   "cell_type": "code",
   "execution_count": 126,
   "metadata": {
    "collapsed": true
   },
   "outputs": [],
   "source": [
    "# Just scale these counts and write to a csv file\n",
    "scaling_factor = SeedArea / ImageArea\n",
    "FinalCount_df['Count'] = (FinalCount_df['Count'] * scaling_factor).apply(lambda x: round(x, 2))"
   ]
  },
  {
   "cell_type": "code",
   "execution_count": 127,
   "metadata": {
    "collapsed": false
   },
   "outputs": [
    {
     "name": "stdout",
     "output_type": "stream",
     "text": [
      "                              Slice     Count\n",
      "0  30k.well1.3_hek_after_4-26-18_ND  68847.37\n",
      "1  30k.well2.3_hek_after_4-26-18_ND  60170.72\n",
      "2  30k.well3.1_hek_after_4-26-18_ND  74506.06\n"
     ]
    }
   ],
   "source": [
    "print(FinalCount_df)"
   ]
  },
  {
   "cell_type": "code",
   "execution_count": 128,
   "metadata": {
    "collapsed": true
   },
   "outputs": [],
   "source": [
    "# Export data to outfile\n",
    "FinalCount_df.to_csv(outfile)"
   ]
  },
  {
   "cell_type": "code",
   "execution_count": null,
   "metadata": {
    "collapsed": true
   },
   "outputs": [],
   "source": []
  }
 ],
 "metadata": {
  "kernelspec": {
   "display_name": "Python 3",
   "language": "python",
   "name": "python3"
  },
  "language_info": {
   "codemirror_mode": {
    "name": "ipython",
    "version": 3
   },
   "file_extension": ".py",
   "mimetype": "text/x-python",
   "name": "python",
   "nbconvert_exporter": "python",
   "pygments_lexer": "ipython3",
   "version": "3.6.0"
  }
 },
 "nbformat": 4,
 "nbformat_minor": 2
}
